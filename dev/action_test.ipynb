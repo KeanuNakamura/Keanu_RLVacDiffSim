{
 "cells": [
  {
   "cell_type": "code",
   "execution_count": 1,
   "metadata": {},
   "outputs": [],
   "source": [
    "%load_ext autoreload\n",
    "%autoreload 2"
   ]
  },
  {
   "cell_type": "code",
   "execution_count": 11,
   "metadata": {},
   "outputs": [],
   "source": [
    "import json\n",
    "import os\n",
    "import sys\n",
    "\n",
    "import numpy as np\n",
    "import torch\n",
    "from ase import io\n",
    "from rlsim.actions.action import get_action_space\n",
    "\n",
    "from rlsim.dqn.simulator import RLSimulator\n",
    "from rlsim.environment import Environment\n",
    "\n",
    "\n",
    "task = \"/\"\n",
    "if task not in os.listdir():\n",
    "    os.makedirs(task, exist_ok=True)\n",
    "# sro = \"0.8\"\n",
    "n_episodes = 10\n",
    "horizon = 2000\n",
    "T = 900\n",
    "kT = T * 8.617 * 10**-5\n",
    "\n",
    "calc_params = {\"platform\": \"mace\", \"device\": \"cuda\"}\n",
    "\n",
    "params = {\n",
    "    \"max_iter\": 100,\n",
    "    \"logfile\": task + \"/log\",\n",
    "    \"temperature\": T,\n",
    "    \"alpha\": 1.0,\n",
    "    \"beta\": 0.0,\n",
    "    \"dqn\": False,\n",
    "}\n",
    "Tl = []\n",
    "Cl = []\n",
    "# new_pool = []\n",
    "# pool = [\"/home2/hojechun/github_repo/RL_H_diffusion/data/POSCARs_256_1_defect/POSCAR_\" + str(i) for i in range(0, 100)]\n",
    "# for filename in pool:\n",
    "#     atoms = io.read(filename)\n",
    "#     # if len(atoms) < 500:\n",
    "#     assert len(atoms) == 255\n",
    "#     new_pool.append(filename)\n",
    "\n",
    "# file = new_pool[np.random.randint(len(new_pool))]\n",
    "file = \"../data/POSCAR_0\""
   ]
  },
  {
   "cell_type": "code",
   "execution_count": 15,
   "metadata": {},
   "outputs": [
    {
     "name": "stdout",
     "output_type": "stream",
     "text": [
      "Using Materials Project MACE for MACECalculator with /home/hojechun/.cache/mace/5yyxdm76\n",
      "Using float32 for MACECalculator, which is faster but less accurate. Recommended for MD. Use float64 for geometry optimization.\n",
      "Default dtype float32 does not match model dtype float64, converting models to float32.\n"
     ]
    }
   ],
   "source": [
    "env = Environment(atoms = file)"
   ]
  },
  {
   "cell_type": "code",
   "execution_count": null,
   "metadata": {},
   "outputs": [],
   "source": [
    "simulator = RLSimulator(environment=env, model=model, calc_params=calc_params, params=params)"
   ]
  },
  {
   "cell_type": "code",
   "execution_count": null,
   "metadata": {},
   "outputs": [],
   "source": []
  }
 ],
 "metadata": {
  "kernelspec": {
   "display_name": "rlmd-env",
   "language": "python",
   "name": "python3"
  },
  "language_info": {
   "codemirror_mode": {
    "name": "ipython",
    "version": 3
   },
   "file_extension": ".py",
   "mimetype": "text/x-python",
   "name": "python",
   "nbconvert_exporter": "python",
   "pygments_lexer": "ipython3",
   "version": "3.10.13"
  },
  "orig_nbformat": 4,
  "vscode": {
   "interpreter": {
    "hash": "7d67e2c79c3418f1c0df42d81d45c6876f37b0b7aa34b13d37d00dc62f14b5fe"
   }
  }
 },
 "nbformat": 4,
 "nbformat_minor": 2
}
